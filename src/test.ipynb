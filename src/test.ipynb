{
 "cells": [
  {
   "cell_type": "code",
   "execution_count": 4,
   "metadata": {},
   "outputs": [
    {
     "name": "stderr",
     "output_type": "stream",
     "text": [
      "WARNING: replacing module fastICA.\n"
     ]
    }
   ],
   "source": [
    "import Base\n",
    "include(\"fastICA.jl\")\n",
    "using LinearAlgebra\n",
    "using Statistics"
   ]
  },
  {
   "cell_type": "code",
   "execution_count": 2,
   "metadata": {},
   "outputs": [
    {
     "data": {
      "text/plain": [
       "Eigen{Float64,Float64,Array{Float64,2},Array{Float64,1}}\n",
       "eigenvalues:\n",
       "3-element Array{Float64,1}:\n",
       " 1.0106786741243456e-16\n",
       " 0.007159621345417651  \n",
       " 0.7428403786545811    \n",
       "eigenvectors:\n",
       "3×3 Array{Float64,2}:\n",
       " -0.272645   0.771267  -0.575163\n",
       " -0.533208  -0.618735  -0.576937\n",
       "  0.800846  -0.149383  -0.57994 "
      ]
     },
     "execution_count": 2,
     "metadata": {},
     "output_type": "execute_result"
    }
   ],
   "source": [
    "A= [40. 10. 50. ; 120. 399. 300. ; 20. 30. 40. ];\n",
    "B = fastICA.eigen_decomposition(A)"
   ]
  },
  {
   "cell_type": "markdown",
   "metadata": {},
   "source": [
    "No caso de eigenvalues negativos nao é possivel fazer a raiz de um número sem converter para complexo, como fazer??"
   ]
  },
  {
   "cell_type": "code",
   "execution_count": 68,
   "metadata": {},
   "outputs": [
    {
     "data": {
      "text/plain": [
       "3×3 Array{Float64,2}:\n",
       "   -5.8562e9     -1.90437e10     -1.40811e10\n",
       " -548.194     -2879.46        -1808.58      \n",
       " -120.478      -293.947        -261.099     "
      ]
     },
     "execution_count": 68,
     "metadata": {},
     "output_type": "execute_result"
    }
   ],
   "source": [
    "(Diagonal(B.values .^ (-1/2)) * B.vectors') * A"
   ]
  },
  {
   "cell_type": "code",
   "execution_count": 6,
   "metadata": {},
   "outputs": [
    {
     "data": {
      "text/plain": [
       "3×3 Array{Float64,2}:\n",
       "   -5.8562e9     -1.90437e10     -1.40811e10\n",
       " -548.194     -2879.46        -1808.58      \n",
       " -120.478      -293.947        -261.099     "
      ]
     },
     "execution_count": 6,
     "metadata": {},
     "output_type": "execute_result"
    }
   ],
   "source": [
    "fastICA.whiten_data(A)"
   ]
  },
  {
   "cell_type": "code",
   "execution_count": null,
   "metadata": {},
   "outputs": [],
   "source": []
  }
 ],
 "metadata": {
  "kernelspec": {
   "display_name": "Julia 1.0.3",
   "language": "julia",
   "name": "julia-1.0"
  },
  "language_info": {
   "file_extension": ".jl",
   "mimetype": "application/julia",
   "name": "julia",
   "version": "1.0.3"
  }
 },
 "nbformat": 4,
 "nbformat_minor": 2
}
