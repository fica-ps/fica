{
 "cells": [
  {
   "cell_type": "code",
   "execution_count": 15,
   "metadata": {},
   "outputs": [
    {
     "name": "stderr",
     "output_type": "stream",
     "text": [
      "WARNING: replacing module fastICA.\n"
     ]
    }
   ],
   "source": [
    "import Base\n",
    "include(\"fastICA.jl\")\n",
    "using LinearAlgebra\n",
    "using Statistics"
   ]
  },
  {
   "cell_type": "code",
   "execution_count": 18,
   "metadata": {},
   "outputs": [],
   "source": [
    "A= [40. 10. 50. ; 120. 399. 300. ; 20. 30. 41. ]\n",
    "B = fastICA.eigen_decomposition(A)\n",
    "#A= [40. 10. 50. ; 120. 399. 300.]\n",
    "#corrA = fastICA.correlation_matrix(A);\n",
    "#covA = fastICA.covariance_matrix(corrA) "
   ]
  },
  {
   "cell_type": "code",
   "execution_count": 19,
   "metadata": {},
   "outputs": [
    {
     "data": {
      "text/plain": [
       "3-element Array{Float64,1}:\n",
       " 1.0106786741243456e-16\n",
       " 0.007159621345417651  \n",
       " 0.7428403786545811    "
      ]
     },
     "execution_count": 19,
     "metadata": {},
     "output_type": "execute_result"
    }
   ],
   "source": [
    "B.values"
   ]
  },
  {
   "cell_type": "markdown",
   "metadata": {},
   "source": [
    "No caso de eigenvalues negativos nao é possivel fazer a raiz de um número sem converter para complexo, como fazer?"
   ]
  },
  {
   "cell_type": "code",
   "execution_count": 17,
   "metadata": {},
   "outputs": [
    {
     "data": {
      "text/plain": [
       "3×3 Array{Float64,2}:\n",
       "   -5.8562e9     -1.90437e10     -1.40811e10\n",
       " -548.194     -2879.46        -1808.58      \n",
       " -120.478      -293.947        -261.099     "
      ]
     },
     "execution_count": 17,
     "metadata": {},
     "output_type": "execute_result"
    }
   ],
   "source": [
    "(sqrt(inv(Diagonal(B.values))) * B.vectors') * A"
   ]
  },
  {
   "cell_type": "code",
   "execution_count": 6,
   "metadata": {},
   "outputs": [
    {
     "data": {
      "text/plain": [
       "3×3 Array{Float64,2}:\n",
       "   -5.8562e9     -1.90437e10     -1.40811e10\n",
       " -548.194     -2879.46        -1808.58      \n",
       " -120.478      -293.947        -261.099     "
      ]
     },
     "execution_count": 6,
     "metadata": {},
     "output_type": "execute_result"
    }
   ],
   "source": [
    "fastICA.whiten_data(A)"
   ]
  },
  {
   "cell_type": "code",
   "execution_count": null,
   "metadata": {},
   "outputs": [],
   "source": []
  }
 ],
 "metadata": {
  "kernelspec": {
   "display_name": "Julia 1.0.3",
   "language": "julia",
   "name": "julia-1.0"
  },
  "language_info": {
   "file_extension": ".jl",
   "mimetype": "application/julia",
   "name": "julia",
   "version": "1.0.3"
  }
 },
 "nbformat": 4,
 "nbformat_minor": 2
}
